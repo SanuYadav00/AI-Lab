{
 "cells": [
  {
   "cell_type": "code",
   "execution_count": 1,
   "id": "8352518f-df1d-4408-ab6e-d0cb5bf4eb3d",
   "metadata": {},
   "outputs": [
    {
     "name": "stdout",
     "output_type": "stream",
     "text": [
      "Solution: [2, 6, 1, 7, 4, 0, 3, 5]\n"
     ]
    },
    {
     "data": {
      "image/png": "[encoded data removed]",
      "text/plain": [
       "<Figure size 640x480 with 1 Axes>"
      ]
     },
     "metadata": {},
     "output_type": "display_data"
    }
   ],
   "source": [
    "import random\n",
    "import numpy as np\n",
    "import matplotlib.pyplot as plt\n",
    "\n",
    "N = 8  # Number of queens\n",
    "POPULATION_SIZE = 100\n",
    "MUTATION_RATE = 0.2\n",
    "GENERATIONS = 1000\n",
    "\n",
    "# Generate a random individual\n",
    "def generate_individual():\n",
    "    return [random.randint(0, N-1) for _ in range(N)]\n",
    "\n",
    "# Compute fitness (number of non-attacking pairs)\n",
    "def fitness(individual):\n",
    "    non_attacking_pairs = 0\n",
    "    for i in range(N):\n",
    "        for j in range(i + 1, N):\n",
    "            if individual[i] != individual[j] and abs(individual[i] - individual[j]) != abs(i - j):\n",
    "                non_attacking_pairs += 1\n",
    "    return non_attacking_pairs\n",
    "\n",
    "# Selection using tournament selection\n",
    "def select(population):\n",
    "    tournament = random.sample(population, 5)\n",
    "    return max(tournament, key=lambda x: x[1])\n",
    "\n",
    "# Crossover (Single Point)\n",
    "def crossover(parent1, parent2):\n",
    "    point = random.randint(1, N-1)\n",
    "    child = parent1[:point] + parent2[point:]\n",
    "    return child\n",
    "\n",
    "# Mutation\n",
    "def mutate(individual):\n",
    "    if random.random() < MUTATION_RATE:\n",
    "        individual[random.randint(0, N-1)] = random.randint(0, N-1)\n",
    "    return individual\n",
    "\n",
    "# Genetic Algorithm\n",
    "def genetic_algorithm():\n",
    "    population = [(generate_individual(), 0) for _ in range(POPULATION_SIZE)]\n",
    "    population = [(ind, fitness(ind)) for ind, _ in population]\n",
    "    \n",
    "    for generation in range(GENERATIONS):\n",
    "        population = sorted(population, key=lambda x: x[1], reverse=True)\n",
    "        \n",
    "        if population[0][1] == (N * (N - 1)) // 2:\n",
    "            return population[0][0]\n",
    "        \n",
    "        new_population = population[:10]  # Elitism\n",
    "        \n",
    "        while len(new_population) < POPULATION_SIZE:\n",
    "            parent1 = select(population)[0]\n",
    "            parent2 = select(population)[0]\n",
    "            child = crossover(parent1, parent2)\n",
    "            child = mutate(child)\n",
    "            new_population.append((child, fitness(child)))\n",
    "        \n",
    "        population = new_population\n",
    "    \n",
    "    return population[0][0]  # Return best solution found\n",
    "\n",
    "# Visualization\n",
    "def visualize_solution(solution):\n",
    "    board = np.zeros((N, N))\n",
    "    for i in range(N):\n",
    "        board[solution[i], i] = 1\n",
    "    \n",
    "    fig, ax = plt.subplots()\n",
    "    ax.matshow(board, cmap=plt.cm.Blues)\n",
    "    \n",
    "    for i in range(N):\n",
    "        for j in range(N):\n",
    "            if board[i, j] == 1:\n",
    "                ax.text(j, i, '♛', va='center', ha='center', fontsize=20)\n",
    "    \n",
    "    plt.xticks([])\n",
    "    plt.yticks([])\n",
    "    plt.show()\n",
    "\n",
    "solution = genetic_algorithm()\n",
    "print(\"Solution:\", solution)\n",
    "visualize_solution(solution)"
   ]
  }
 ],
 "metadata": {
  "kernelspec": {
   "display_name": "Python [conda env:base] *",
   "language": "python",
   "name": "conda-base-py"
  },
  "language_info": {
   "codemirror_mode": {
    "name": "ipython",
    "version": 3
   },
   "file_extension": ".py",
   "mimetype": "text/x-python",
   "name": "python",
   "nbconvert_exporter": "python",
   "pygments_lexer": "ipython3",
   "version": "3.12.7"
  }
 },
 "nbformat": 4,
 "nbformat_minor": 5
}
