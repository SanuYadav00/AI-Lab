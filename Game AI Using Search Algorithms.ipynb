{
 "cells": [
  {
   "cell_type": "code",
   "execution_count": 1,
   "id": "2315d011-c572-471f-a287-da9d6e76f7e2",
   "metadata": {},
   "outputs": [
    {
     "data": {
      "text/plain": [
       "'Assignment : Game AI Using Search Algorithms\\n \\nObjective: Implement AI to solve a simple turn-based game.\\n \\nProblem Statement: Design an AI agent to play a game (e.g., Tic-Tac-Toe or Snake and Ladder) using search algorithms.\\n \\n \\nTasks:\\nl Use BFS and DFS for exploring game states.\\nl Implement A* Search with a heuristic function to improve efficiency.\\nl Compare search strategies for different game board configurations.'"
      ]
     },
     "execution_count": 1,
     "metadata": {},
     "output_type": "execute_result"
    }
   ],
   "source": [
    "'''Assignment : Game AI Using Search Algorithms\n",
    " \n",
    "Objective: Implement AI to solve a simple turn-based game.\n",
    " \n",
    "Problem Statement: Design an AI agent to play a game (e.g., Tic-Tac-Toe or Snake and Ladder) using search algorithms.\n",
    " \n",
    " \n",
    "Tasks:\n",
    "l Use BFS and DFS for exploring game states.\n",
    "l Implement A* Search with a heuristic function to improve efficiency.\n",
    "l Compare search strategies for different game board configurations.'''"
   ]
  },
  {
   "cell_type": "code",
   "execution_count": 2,
   "id": "e58a39be-a678-474b-b2eb-3a67cd9b7264",
   "metadata": {},
   "outputs": [],
   "source": [
    "import heapq\n",
    "from collections import deque\n",
    "\n",
    "# Constants for the game\n",
    "PLAYER, AI = 'X', 'O'\n",
    "\n",
    "# Function to check for a winner\n",
    "def check_winner(board):\n",
    "    win_states = [\n",
    "        [board[0][0], board[0][1], board[0][2]],\n",
    "        [board[1][0], board[1][1], board[1][2]],\n",
    "        [board[2][0], board[2][1], board[2][2]],\n",
    "        [board[0][0], board[1][0], board[2][0]],\n",
    "        [board[0][1], board[1][1], board[2][1]],\n",
    "        [board[0][2], board[1][2], board[2][2]],\n",
    "        [board[0][0], board[1][1], board[2][2]],\n",
    "        [board[0][2], board[1][1], board[2][0]],\n",
    "    ]\n",
    "    if ['X', 'X', 'X'] in win_states:\n",
    "        return 'X'\n",
    "    if ['O', 'O', 'O'] in win_states:\n",
    "        return 'O'\n",
    "    return None"
   ]
  },
  {
   "cell_type": "code",
   "execution_count": 3,
   "id": "4a16beb5-fbdd-4c36-949b-3a424d34bc23",
   "metadata": {},
   "outputs": [],
   "source": [
    "# Function to get empty positions\n",
    "def get_empty_positions(board):\n",
    "    return [(i, j) for i in range(3) for j in range(3) if board[i][j] == ' ']\n",
    "\n",
    "# BFS to find the first winning move\n",
    "def bfs(board):\n",
    "    queue = deque([(board, None)])\n",
    "    while queue:\n",
    "        curr_board, move = queue.popleft()\n",
    "        winner = check_winner(curr_board)\n",
    "        if winner:\n",
    "            return move\n",
    "        for i, j in get_empty_positions(curr_board):\n",
    "            new_board = [row[:] for row in curr_board]\n",
    "            new_board[i][j] = AI\n",
    "            queue.append((new_board, (i, j)))\n",
    "    return None"
   ]
  },
  {
   "cell_type": "code",
   "execution_count": 4,
   "id": "92296fcb-0301-4bd6-8215-d409df3336c0",
   "metadata": {},
   "outputs": [],
   "source": [
    "# DFS to find the first winning move\n",
    "def dfs(board):\n",
    "    stack = [(board, None)]\n",
    "    while stack:\n",
    "        curr_board, move = stack.pop()\n",
    "        winner = check_winner(curr_board)\n",
    "        if winner:\n",
    "            return move\n",
    "        for i, j in get_empty_positions(curr_board):\n",
    "            new_board = [row[:] for row in curr_board]\n",
    "            new_board[i][j] = AI\n",
    "            stack.append((new_board, (i, j)))\n",
    "    return None\n"
   ]
  },
  {
   "cell_type": "code",
   "execution_count": 5,
   "id": "d5044d6f-19e0-42dc-87b4-25c879d177d6",
   "metadata": {},
   "outputs": [],
   "source": [
    "# Heuristic function for A* (counts 2-in-a-row situations)\n",
    "def heuristic(board):\n",
    "    score = 0\n",
    "    for line in [\n",
    "        [board[0][0], board[0][1], board[0][2]],\n",
    "        [board[1][0], board[1][1], board[1][2]],\n",
    "        [board[2][0], board[2][1], board[2][2]],\n",
    "        [board[0][0], board[1][0], board[2][0]],\n",
    "        [board[0][1], board[1][1], board[2][1]],\n",
    "        [board[0][2], board[1][2], board[2][2]],\n",
    "        [board[0][0], board[1][1], board[2][2]],\n",
    "        [board[0][2], board[1][1], board[2][0]],\n",
    "    ]:\n",
    "        if line.count(AI) == 2 and line.count(' ') == 1:\n",
    "            score += 10\n",
    "        elif line.count(PLAYER) == 2 and line.count(' ') == 1:\n",
    "            score -= 10\n",
    "    return score"
   ]
  },
  {
   "cell_type": "code",
   "execution_count": 6,
   "id": "72f23d79-93bf-4884-a3b2-c6dfa5f98707",
   "metadata": {},
   "outputs": [],
   "source": [
    "# A* Search for the best move\n",
    "def a_star(board):\n",
    "    pq = []\n",
    "    heapq.heappush(pq, (0, board, None))\n",
    "    while pq:\n",
    "        _, curr_board, move = heapq.heappop(pq)\n",
    "        winner = check_winner(curr_board)\n",
    "        if winner:\n",
    "            return move\n",
    "        for i, j in get_empty_positions(curr_board):\n",
    "            new_board = [row[:] for row in curr_board]\n",
    "            new_board[i][j] = AI\n",
    "            heapq.heappush(pq, (heuristic(new_board), new_board, (i, j)))\n",
    "    return None"
   ]
  },
  {
   "cell_type": "code",
   "execution_count": 7,
   "id": "e2f08bcb-249b-48e9-b850-8ea767c83db2",
   "metadata": {},
   "outputs": [
    {
     "name": "stdout",
     "output_type": "stream",
     "text": [
      "Initial Board:\n",
      "[' ', ' ', ' ']\n",
      "[' ', ' ', ' ']\n",
      "[' ', ' ', ' ']\n",
      "\n",
      "AI chooses: (2, 0)\n",
      "[' ', ' ', ' ']\n",
      "[' ', ' ', ' ']\n",
      "['O', ' ', ' ']\n"
     ]
    },
    {
     "name": "stdin",
     "output_type": "stream",
     "text": [
      "\n",
      "Enter your move (row col):  1 1\n"
     ]
    },
    {
     "name": "stdout",
     "output_type": "stream",
     "text": [
      "\n",
      "AI chooses: (2, 1)\n",
      "[' ', ' ', ' ']\n",
      "[' ', 'X', ' ']\n",
      "['O', 'O', ' ']\n"
     ]
    },
    {
     "name": "stdin",
     "output_type": "stream",
     "text": [
      "\n",
      "Enter your move (row col):  2 2\n"
     ]
    },
    {
     "name": "stdout",
     "output_type": "stream",
     "text": [
      "\n",
      "AI chooses: (0, 0)\n",
      "['O', ' ', ' ']\n",
      "[' ', 'X', ' ']\n",
      "['O', 'O', 'X']\n"
     ]
    },
    {
     "name": "stdin",
     "output_type": "stream",
     "text": [
      "\n",
      "Enter your move (row col):  1 0\n"
     ]
    },
    {
     "name": "stdout",
     "output_type": "stream",
     "text": [
      "\n",
      "AI chooses: (0, 1)\n",
      "['O', 'O', ' ']\n",
      "['X', 'X', ' ']\n",
      "['O', 'O', 'X']\n"
     ]
    },
    {
     "name": "stdin",
     "output_type": "stream",
     "text": [
      "\n",
      "Enter your move (row col):  1 2\n"
     ]
    },
    {
     "name": "stdout",
     "output_type": "stream",
     "text": [
      "\n",
      "Winner: X\n"
     ]
    }
   ],
   "source": [
    "# Main function to test the AI\n",
    "def play_game():\n",
    "    board = [[' ' for _ in range(3)] for _ in range(3)]\n",
    "    print(\"Initial Board:\")\n",
    "    for row in board:\n",
    "        print(row)\n",
    "    \n",
    "    while True:\n",
    "        # AI plays using A*\n",
    "        move = a_star(board)\n",
    "        if move:\n",
    "            board[move[0]][move[1]] = AI\n",
    "            print(\"\\nAI chooses:\", move)\n",
    "        else:\n",
    "            print(\"\\nGame Drawn!\")\n",
    "            break\n",
    "        \n",
    "        for row in board:\n",
    "            print(row)\n",
    "\n",
    "        # Check winner\n",
    "        winner = check_winner(board)\n",
    "        if winner:\n",
    "            print(f\"\\nWinner: {winner}\")\n",
    "            break\n",
    "\n",
    "        # Player move (Manual input for testing)\n",
    "        i, j = map(int, input(\"\\nEnter your move (row col): \").split())\n",
    "        board[i][j] = PLAYER\n",
    "\n",
    "        winner = check_winner(board)\n",
    "        if winner:\n",
    "            print(f\"\\nWinner: {winner}\")\n",
    "            break\n",
    "\n",
    "# Run the game\n",
    "play_game()"
   ]
  }
 ],
 "metadata": {
  "kernelspec": {
   "display_name": "Python [conda env:base] *",
   "language": "python",
   "name": "conda-base-py"
  },
  "language_info": {
   "codemirror_mode": {
    "name": "ipython",
    "version": 3
   },
   "file_extension": ".py",
   "mimetype": "text/x-python",
   "name": "python",
   "nbconvert_exporter": "python",
   "pygments_lexer": "ipython3",
   "version": "3.12.7"
  }
 },
 "nbformat": 4,
 "nbformat_minor": 5
}
