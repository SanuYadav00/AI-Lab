{
 "cells": [
  {
   "cell_type": "code",
   "execution_count": 1,
   "id": "385f39dc-5703-4f30-a5a4-d11120a6bc19",
   "metadata": {},
   "outputs": [
    {
     "data": {
      "text/plain": [
       "'Assignment 2: Route Finder Using Bi-Directional BFS/DFS\\n\\nObjective: Use Bi-directional BFS/DFS to solve a navigation problem.\\n\\nProblem Statement: Represent a city map as a graph where intersections are nodes and roads are edges. Find the shortest path between two locations.\\n\\nTasks:\\nImplement Bi-directional BFS to minimize the number of nodes explored.\\nCompare the performance of Bi-directional BFS with standard BFS and DFS.\\nVisualize the search process (e.g., using a library like networkx in Python) '"
      ]
     },
     "execution_count": 1,
     "metadata": {},
     "output_type": "execute_result"
    }
   ],
   "source": [
    "\"\"\"Assignment 2: Route Finder Using Bi-Directional BFS/DFS\n",
    "\n",
    "Objective: Use Bi-directional BFS/DFS to solve a navigation problem.\n",
    "\n",
    "Problem Statement: Represent a city map as a graph where intersections are nodes and roads are edges. Find the shortest path between two locations.\n",
    "\n",
    "Tasks:\n",
    "Implement Bi-directional BFS to minimize the number of nodes explored.\n",
    "Compare the performance of Bi-directional BFS with standard BFS and DFS.\n",
    "Visualize the search process (e.g., using a library like networkx in Python) \"\"\""
   ]
  },
  {
   "cell_type": "code",
   "execution_count": 2,
   "id": "0820982c-13cc-4772-98d1-a27eb421486e",
   "metadata": {},
   "outputs": [],
   "source": [
    "import networkx as nx\n",
    "import matplotlib.pyplot as plt\n",
    "from collections import deque"
   ]
  },
  {
   "cell_type": "code",
   "execution_count": 3,
   "id": "1cd96104-c92d-4318-b7ce-4326267b0682",
   "metadata": {},
   "outputs": [],
   "source": [
    "\n",
    "\n",
    "city_map = {\n",
    "    'A': ['B', 'C'],\n",
    "    'B': ['A', 'D', 'E'],\n",
    "    'C': ['A', 'F'],\n",
    "    'D': ['B'],\n",
    "    'E': ['B', 'F', 'G'],\n",
    "    'F': ['C', 'E'],\n",
    "    'G': ['E']\n",
    "}"
   ]
  },
  {
   "cell_type": "code",
   "execution_count": 4,
   "id": "d1c71743-7365-4866-9e1a-b7a9cf8c7482",
   "metadata": {},
   "outputs": [],
   "source": [
    "\n",
    "def bidirectional_bfs(graph, start, target):\n",
    "    if start == target:\n",
    "        return [start]\n",
    "\n",
    "    \n",
    "    start_visited = {start}\n",
    "    target_visited = {target}\n",
    "    start_queue = deque([start])\n",
    "    target_queue = deque([target])\n",
    "    parent_start = {start: None}\n",
    "    parent_target = {target: None}\n",
    "\n",
    "    while start_queue and target_queue:\n",
    "        if _expand_frontier(graph, start_queue, start_visited, parent_start, target_visited):\n",
    "            return _construct_path(start, target, parent_start, parent_target)\n",
    "\n",
    "       \n",
    "        if _expand_frontier(graph, target_queue, target_visited, parent_target, start_visited):\n",
    "            return _construct_path(start, target, parent_start, parent_target)\n",
    "\n",
    "    return None  # No path found"
   ]
  },
  {
   "cell_type": "code",
   "execution_count": 5,
   "id": "51e4d1fc-173c-4858-97af-46e03d3b662d",
   "metadata": {},
   "outputs": [],
   "source": [
    "def _expand_frontier(graph, queue, visited, parent, other_visited):\n",
    "    current = queue.popleft()\n",
    "    for neighbor in graph[current]:\n",
    "        if neighbor not in visited:\n",
    "            visited.add(neighbor)\n",
    "            parent[neighbor] = current\n",
    "            queue.append(neighbor)\n",
    "            if neighbor in other_visited:  # Meet in the middle\n",
    "                return True\n",
    "    return False"
   ]
  },
  {
   "cell_type": "code",
   "execution_count": 6,
   "id": "fdeb63aa-f862-40fc-b4ee-c3d8437a2e9f",
   "metadata": {},
   "outputs": [],
   "source": [
    "def _construct_path(start, target, parent_start, parent_target):\n",
    "\n",
    "    path_start = []\n",
    "    path_target = []\n",
    "\n",
    "    \n",
    "    meeting_point = (set(parent_start.keys()) & set(parent_target.keys())).pop()\n",
    "    current = meeting_point\n",
    "    while current:\n",
    "        path_start.append(current)\n",
    "        current = parent_start[current]\n",
    "\n",
    "    \n",
    "    current = parent_target[meeting_point]\n",
    "    while current:\n",
    "        path_target.append(current)\n",
    "        current = parent_target[current]\n",
    "\n",
    "    return path_start[::-1] + path_target"
   ]
  },
  {
   "cell_type": "code",
   "execution_count": 7,
   "id": "9747cc94-3f04-4870-ac7c-b2dd3ffb6308",
   "metadata": {},
   "outputs": [],
   "source": [
    "def bfs(graph, start, target):\n",
    "    visited = {start}\n",
    "    queue = deque([(start, [start])])\n",
    "    while queue:\n",
    "        current, path = queue.popleft()\n",
    "        if current == target:\n",
    "            return path\n",
    "        for neighbor in graph[current]:\n",
    "            if neighbor not in visited:\n",
    "                visited.add(neighbor)\n",
    "                queue.append((neighbor, path + [neighbor]))\n",
    "    return None"
   ]
  },
  {
   "cell_type": "code",
   "execution_count": 8,
   "id": "3a665075-e8a1-4884-aa78-ef7e80fd3944",
   "metadata": {},
   "outputs": [],
   "source": [
    "def dfs(graph, start, target, path=None, visited=None):\n",
    "    if path is None:\n",
    "        path = []\n",
    "    if visited is None:\n",
    "        visited = set()\n",
    "\n",
    "    visited.add(start)\n",
    "    path.append(start)\n",
    "\n",
    "    if start == target:\n",
    "        return path\n",
    "\n",
    "    for neighbor in graph[start]:\n",
    "        if neighbor not in visited:\n",
    "            result = dfs(graph, neighbor, target, path[:], visited)\n",
    "            if result:\n",
    "                return result\n",
    "    return None"
   ]
  },
  {
   "cell_type": "code",
   "execution_count": 9,
   "id": "8967c9de-a80e-4b14-a779-520d36776d23",
   "metadata": {},
   "outputs": [],
   "source": [
    "def visualize_graph(graph, path=None):\n",
    "    G = nx.Graph()\n",
    "    for node, neighbors in graph.items():\n",
    "        for neighbor in neighbors:\n",
    "            G.add_edge(node, neighbor)\n",
    "\n",
    "    pos = nx.spring_layout(G) \n",
    "    nx.draw(G, pos, with_labels=True, node_color='lightblue', edge_color='gray', node_size=2000, font_size=10)\n",
    "\n",
    "    if path:\n",
    "        edges = [(path[i], path[i + 1]) for i in range(len(path) - 1)]\n",
    "        nx.draw_networkx_edges(G, pos, edgelist=edges, edge_color='red', width=2)\n",
    "\n",
    "    plt.show()"
   ]
  },
  {
   "cell_type": "code",
   "execution_count": 10,
   "id": "7a025fe0-240e-4125-8644-5b340573aa9a",
   "metadata": {},
   "outputs": [
    {
     "name": "stdout",
     "output_type": "stream",
     "text": [
      "Bi-Directional BFS Path: ['A', 'B', 'E', 'G']\n"
     ]
    },
    {
     "data": {
      "image/png": "[encoded data removed]",
      "text/plain": [
       "<Figure size 640x480 with 1 Axes>"
      ]
     },
     "metadata": {},
     "output_type": "display_data"
    },
    {
     "name": "stdout",
     "output_type": "stream",
     "text": [
      "Standard BFS Path: ['A', 'B', 'E', 'G']\n",
      "Standard DFS Path: ['A', 'B', 'E', 'G']\n"
     ]
    }
   ],
   "source": [
    "start = 'A'\n",
    "target = 'G'\n",
    "\n",
    "path_bidirectional = bidirectional_bfs(city_map, start, target)\n",
    "print(\"Bi-Directional BFS Path:\", path_bidirectional)\n",
    "visualize_graph(city_map, path_bidirectional)\n",
    "\n",
    "path_bfs = bfs(city_map, start, target)\n",
    "print(\"Standard BFS Path:\", path_bfs)\n",
    "\n",
    "path_dfs = dfs(city_map, start, target)\n",
    "print(\"Standard DFS Path:\", path_dfs)"
   ]
  }
 ],
 "metadata": {
  "kernelspec": {
   "display_name": "Python 3 (ipykernel)",
   "language": "python",
   "name": "python3"
  },
  "language_info": {
   "codemirror_mode": {
    "name": "ipython",
    "version": 3
   },
   "file_extension": ".py",
   "mimetype": "text/x-python",
   "name": "python",
   "nbconvert_exporter": "python",
   "pygments_lexer": "ipython3",
   "version": "3.12.3"
  }
 },
 "nbformat": 4,
 "nbformat_minor": 5
}
