{
 "cells": [
  {
   "cell_type": "code",
   "execution_count": 1,
   "id": "33337eb3-7222-4bae-bc19-271420c8f3c5",
   "metadata": {},
   "outputs": [],
   "source": [
    "\"\"\"Assignment : Search for Treasure using the Best-First Search\n",
    " \n",
    "Objective: Use Best-First Search to find a treasure in a grid.\n",
    " \n",
    "Problem Statement: The treasure is hidden in a grid, and each cell has a heuristic value representing its \"closeness\" to the treasure. Implement Best-First Search to locate the treasure.\n",
    " \n",
    "Tasks:\n",
    "l. Use Manhattan distance as a heuristic.\n",
    "lI. Implement the algorithm to always move to the most promising cell first (minimum heuristic value).\n",
    "lII. Analyze how heuristic choice affects performance. \"\"\"\n",
    "\n",
    "import heapq\n",
    "import matplotlib.pyplot as plt\n",
    "import numpy as np\n",
    "import time\n"
   ]
  },
  {
   "cell_type": "code",
   "execution_count": 2,
   "id": "a3b34fee-b13d-4a29-827c-77ba88d7ace9",
   "metadata": {},
   "outputs": [],
   "source": [
    "\n",
    "GRID_SIZE = 10\n",
    "TREASURE = (7, 7) \n",
    "\n",
    "\n",
    "def manhattan_distance(cell, goal):\n",
    "    return abs(cell[0] - goal[0]) + abs(cell[1] - goal[1])"
   ]
  },
  {
   "cell_type": "code",
   "execution_count": 3,
   "id": "03139541-4c4b-4dc6-9651-3205621823af",
   "metadata": {},
   "outputs": [],
   "source": [
    "\n",
    "def best_first_search(start, goal):\n",
    "    open_list = []\n",
    "    heapq.heappush(open_list, (manhattan_distance(start, goal), start))\n",
    "    came_from = {}\n",
    "    \n",
    "    while open_list:\n",
    "        _, current = heapq.heappop(open_list)\n",
    "        if current == goal:\n",
    "            path = []\n",
    "            while current != start:\n",
    "                path.append(current)\n",
    "                current = came_from[current]\n",
    "            path.append(start)\n",
    "            path.reverse()\n",
    "            return path\n",
    "        \n",
    "        neighbors = [(current[0]-1, current[1]), (current[0]+1, current[1]),\n",
    "                    (current[0], current[1]-1), (current[0], current[1]+1)]\n",
    "        \n",
    "        for neighbor in neighbors:\n",
    "            if 0 <= neighbor[0] < GRID_SIZE and 0 <= neighbor[1] < GRID_SIZE:\n",
    "                if neighbor not in came_from:\n",
    "                    heapq.heappush(open_list, (manhattan_distance(neighbor, goal), neighbor))\n",
    "                    came_from[neighbor] = current\n",
    "    return []  \n"
   ]
  },
  {
   "cell_type": "code",
   "execution_count": 4,
   "id": "d7b51550-1c04-4447-a5ea-e04e00b91069",
   "metadata": {},
   "outputs": [],
   "source": [
    "\n",
    "def visualize_grid(path):\n",
    "    grid_image = np.zeros((GRID_SIZE, GRID_SIZE))\n",
    "    \n",
    "    for i in range(GRID_SIZE):\n",
    "        for j in range(GRID_SIZE):\n",
    "            grid_image[i, j] = 1  \n",
    "    \n",
    "    for (x, y) in path:\n",
    "        grid_image[x, y] = 0.5  \n",
    "    \n",
    "    grid_image[TREASURE[0], TREASURE[1]] = 2  \n",
    "    \n",
    "    plt.imshow(grid_image, cmap=\"YlGnBu\", interpolation=\"nearest\")\n",
    "    plt.colorbar()\n",
    "    plt.title(\"Best-First Search Path to Treasure\")\n",
    "    plt.show()"
   ]
  },
  {
   "cell_type": "code",
   "execution_count": 5,
   "id": "25cff3c7-37f7-49b9-9aaa-42c92f989d74",
   "metadata": {},
   "outputs": [],
   "source": [
    "\n",
    "def analyze_performance(start, goal):\n",
    "    start_time = time.time()\n",
    "    path = best_first_search(start, goal)\n",
    "    end_time = time.time()\n",
    "    \n",
    "    \n",
    "    print(\"Treasure location:\", goal)\n",
    "    print(\"Path to the treasure:\", path)\n",
    "    print(\"Time taken to find the path:\", end_time - start_time, \"seconds\")\n",
    "    \n",
    "    \n",
    "    visualize_grid(path)"
   ]
  },
  {
   "cell_type": "code",
   "execution_count": 6,
   "id": "da568a7e-c991-41b2-9af2-384c0d0baf75",
   "metadata": {},
   "outputs": [
    {
     "name": "stdout",
     "output_type": "stream",
     "text": [
      "Treasure location: (7, 7)\n",
      "Path to the treasure: [(0, 0), (0, 1), (0, 2), (0, 3), (0, 4), (0, 5), (0, 6), (0, 7), (1, 7), (2, 7), (3, 7), (4, 7), (5, 7), (6, 7), (7, 7)]\n",
      "Time taken to find the path: 0.0 seconds\n"
     ]
    },
    {
     "data": {
      "image/png": "[encoded data removed]",
      "text/plain": [
       "<Figure size 640x480 with 2 Axes>"
      ]
     },
     "metadata": {},
     "output_type": "display_data"
    }
   ],
   "source": [
    "\n",
    "start = (0, 0) \n",
    "\n",
    "\n",
    "analyze_performance(start, TREASURE)"
   ]
  }
 ],
 "metadata": {
  "kernelspec": {
   "display_name": "Python 3 (ipykernel)",
   "language": "python",
   "name": "python3"
  },
  "language_info": {
   "codemirror_mode": {
    "name": "ipython",
    "version": 3
   },
   "file_extension": ".py",
   "mimetype": "text/x-python",
   "name": "python",
   "nbconvert_exporter": "python",
   "pygments_lexer": "ipython3",
   "version": "3.12.3"
  }
 },
 "nbformat": 4,
 "nbformat_minor": 5
}
